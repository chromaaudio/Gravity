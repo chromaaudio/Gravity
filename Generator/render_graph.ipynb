{
 "cells": [
  {
   "cell_type": "code",
   "execution_count": 2,
   "source": [
    "import torch\r\n",
    "from model import Generator, Discriminator\r\n",
    "import torchviz\r\n",
    "\r\n",
    "netG = Generator(\r\n",
    "    nf = 512,\r\n",
    "    depth = 3,\r\n",
    "    num_channels = 1,\r\n",
    "    scale_factor = 4,\r\n",
    "    start_size = 32\r\n",
    ").to(\"cuda\")\r\n",
    "\r\n",
    "netD = Discriminator(\r\n",
    "    nf = 512 // (2 ** 6),\r\n",
    "    depth = 6,\r\n",
    "    num_channels = 1,\r\n",
    "    scale_factor = 4,\r\n",
    "    start_size = 32,\r\n",
    ").to(\"cuda\")\r\n",
    "\r\n",
    "\r\n",
    "dot = torchviz.make_dot(netG(torch.randn((10,512)).to(\"cuda\")), params=dict(netG.named_parameters()))\r\n",
    "dot.format = \"png\"\r\n",
    "dot.render(\"filename\")"
   ],
   "outputs": [
    {
     "output_type": "stream",
     "name": "stderr",
     "text": [
      "C:\\miniconda3\\envs\\torch\\lib\\site-packages\\torch\\nn\\functional.py:3609: UserWarning: Default upsampling behavior when mode=linear is changed to align_corners=False since 0.4.0. Please specify align_corners=True if the old behavior is desired. See the documentation of nn.Upsample for details.\n",
      "  warnings.warn(\n",
      "C:\\miniconda3\\envs\\torch\\lib\\site-packages\\torch\\nn\\functional.py:3609: UserWarning: Default upsampling behavior when mode=linear is changed to align_corners=False since 0.4.0. Please specify align_corners=True if the old behavior is desired. See the documentation of nn.Upsample for details.\n",
      "  warnings.warn(\n",
      "C:\\miniconda3\\envs\\torch\\lib\\site-packages\\torch\\nn\\functional.py:3609: UserWarning: Default upsampling behavior when mode=linear is changed to align_corners=False since 0.4.0. Please specify align_corners=True if the old behavior is desired. See the documentation of nn.Upsample for details.\n",
      "  warnings.warn(\n",
      "C:\\miniconda3\\envs\\torch\\lib\\site-packages\\torch\\nn\\functional.py:3609: UserWarning: Default upsampling behavior when mode=linear is changed to align_corners=False since 0.4.0. Please specify align_corners=True if the old behavior is desired. See the documentation of nn.Upsample for details.\n",
      "  warnings.warn(\n",
      "C:\\miniconda3\\envs\\torch\\lib\\site-packages\\torch\\nn\\functional.py:3609: UserWarning: Default upsampling behavior when mode=linear is changed to align_corners=False since 0.4.0. Please specify align_corners=True if the old behavior is desired. See the documentation of nn.Upsample for details.\n",
      "  warnings.warn(\n"
     ]
    },
    {
     "output_type": "execute_result",
     "data": {
      "text/plain": [
       "'filename.png'"
      ]
     },
     "metadata": {},
     "execution_count": 2
    }
   ],
   "metadata": {}
  },
  {
   "cell_type": "code",
   "execution_count": null,
   "source": [],
   "outputs": [],
   "metadata": {}
  }
 ],
 "metadata": {
  "interpreter": {
   "hash": "72eaa5387d2673a322b4159b628bab960f1d2c569a532f6bcddf6a70cdf99dba"
  },
  "kernelspec": {
   "display_name": "Python 3.8.8 64-bit ('torch': conda)",
   "name": "python3"
  },
  "language_info": {
   "codemirror_mode": {
    "name": "ipython",
    "version": 3
   },
   "file_extension": ".py",
   "mimetype": "text/x-python",
   "name": "python",
   "nbconvert_exporter": "python",
   "pygments_lexer": "ipython3",
   "version": "3.8.8"
  },
  "orig_nbformat": 4
 },
 "nbformat": 4,
 "nbformat_minor": 2
}